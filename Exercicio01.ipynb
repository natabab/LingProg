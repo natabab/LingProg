{
 "cells": [
  {
   "cell_type": "markdown",
   "metadata": {},
   "source": [
    "1 Faça um Programa que peça o raio de um círculo, calcule e mostre sua área."
   ]
  },
  {
   "cell_type": "code",
   "execution_count": null,
   "metadata": {},
   "outputs": [],
   "source": [
    "pi = 3.14\n",
    "r = input(\"Digite a área do circulo em metros: \")\n",
    "a = pi * (r * r)\n",
    "print 'A área do circulo é',a,'m²'"
   ]
  },
  {
   "cell_type": "markdown",
   "metadata": {},
   "source": [
    "2 Faça um Programa que calcule a área de um quadrado, em seguida mostre o dobro desta área para o usuário."
   ]
  },
  {
   "cell_type": "code",
   "execution_count": null,
   "metadata": {},
   "outputs": [],
   "source": [
    "altura = input(\"Digite a altura do quadrado em metros: \")\n",
    "largura = input(\"Digite a largura do quadrado em metros: \")\n",
    "a = altura * largura\n",
    "print'O dobro da area é',a * 2,'m²'"
   ]
  },
  {
   "cell_type": "markdown",
   "metadata": {},
   "source": [
    "3 Faça um Programa que pergunte quanto você ganha por hora e o número de horas trabalhadas no mês. Calcule e mostre o\n",
    "total do seu salário no referido mês."
   ]
  },
  {
   "cell_type": "code",
   "execution_count": null,
   "metadata": {},
   "outputs": [],
   "source": [
    "Vh = int(input(\"Digite quanto voce ganha por hora: \"))\n",
    "Vm = int(input(\"Digite o total de horas trabalhadas no mes: \"))\n",
    "print(\"Voce ganha no mes R$\", Vh * Vm)"
   ]
  },
  {
   "cell_type": "markdown",
   "metadata": {},
   "source": [
    "4 Faça um Programa que peça a temperatura em graus Farenheit, transforme e mostre a temperatura em graus Celsius.\n",
    "C = (5 * (F-32) / 9)."
   ]
  },
  {
   "cell_type": "code",
   "execution_count": null,
   "metadata": {},
   "outputs": [],
   "source": [
    "f = input(\"Digite o valor de f: \")\n",
    "vT = f - 32\n",
    "c = 5 * vT / 9\n",
    "print c"
   ]
  },
  {
   "cell_type": "markdown",
   "metadata": {},
   "source": [
    "5 Faça um Programa que peça a temperatura em graus Celsius, transforme e mostre em graus Farenheit."
   ]
  },
  {
   "cell_type": "code",
   "execution_count": null,
   "metadata": {},
   "outputs": [],
   "source": [
    "c = input(\"Digite o valor de c: \")\n",
    "vT = c * 1.8\n",
    "f = vT + 32\n",
    "print f"
   ]
  },
  {
   "cell_type": "markdown",
   "metadata": {},
   "source": [
    "6 Faça um Programa que peça 2 números inteiros e um número real. Calcule e mostre:\n",
    "- o produto do dobro do primeiro com metade do segundo.\n",
    "- a soma do triplo do primeiro com o terceiro.\n",
    "- o terceiro elevado ao cubo."
   ]
  },
  {
   "cell_type": "code",
   "execution_count": null,
   "metadata": {},
   "outputs": [],
   "source": [
    "import math\n",
    "\n",
    "n1 = input(\"Digite o primeiro numero: \")\n",
    "n2 = input(\"Digite o segundo numero: \")\n",
    "nR = input(\"Digite o numero Real: \")\n",
    "r1 = n1 * 2 * (n2/2)\n",
    "print'o produto do dobro do primeiro com metade do segundo=', r1\n",
    "r2 = n1 * 3 + nR\n",
    "print'a soma do tiplo do primeiro com o terceiro =', r2\n",
    "r3 = nR ** 3\n",
    "print'o terceiro elevado ao cubo', r3"
   ]
  },
  {
   "cell_type": "markdown",
   "metadata": {},
   "source": [
    "7 João Papo-de-Pescador, homem de bem, comprou um microcomputador para controlar o rendimento diário de seu trabalho.\n",
    "Toda vez que ele traz um peso de peixes maior que o estabelecido pelo regulamento de pesca do estado de São Paulo\n",
    "(50 quilos) deve pagar uma multa de R$ 4,00 por quilo excedente. João precisa que você faça um programa que leia a\n",
    "variável peso (peso de peixes) e verifique se há excesso. Se houver, gravar na variável excesso e na variável multa o\n",
    "valor da multa que João deverá pagar. Caso contrário mostrar tais variáveis com o conteúdo ZERO."
   ]
  },
  {
   "cell_type": "code",
   "execution_count": null,
   "metadata": {},
   "outputs": [],
   "source": [
    "peso = int(input(\"Qual o peso: \"))\n",
    "\n",
    "if peso > 50\n",
    "    excesso = peso - 50\n",
    "    multa = excesso * 4\n",
    "else:\n",
    "    excesso = \"ZERO\"\n",
    "    multa = \"ZERO\"\n",
    "\n",
    "print 'O excesso de peso foi de ',str(excesso),'kg, portanto a multa é de R$', str multa"
   ]
  },
  {
   "cell_type": "markdown",
   "metadata": {},
   "source": [
    "8 Faça um Programa que pergunte quanto você ganha por hora e o número de horas trabalhadas no mês. Calcule e mostre o\n",
    "total do seu salário no referido mês, sabendo-se que são descontados 11% para o Imposto de Renda, 8% para o INSS e 5%\n",
    "para o sindicato, faça um programa que nos dê:\n",
    "- salário bruto.\n",
    "- quanto pagou ao INSS.\n",
    "- quanto pagou ao sindicato.\n",
    "- o salário líquido.\n",
    "- calcule os descontos e o salário líquido, conforme a tabela abaixo:\n",
    "+ Salário Bruto : R$\n",
    "- IR (11%) : R$\n",
    "- INSS (8%) : R$\n",
    "- Sindicato ( 5%) : R$\n",
    "= Salário Liquido : R$\n",
    "Obs.: Salário Bruto - Descontos = Salário Líquido."
   ]
  },
  {
   "cell_type": "code",
   "execution_count": null,
   "metadata": {},
   "outputs": [],
   "source": [
    "qnt_ganha = float(input(\"Valor ganhado por hora: \"))\n",
    "horas_trabalhadas = int(input(\"Horas trabalhadas por mes: \"))\n",
    "\n",
    "salario_bruto = qnt_ganha * horas_trabalhadas\n",
    "ir = salario_bruto * 0.11\n",
    "inss = salario_bruto * 0.08\n",
    "sindicato = salario_bruto * 0.05\n",
    "\n",
    "print ('+ Salario Bruto: R$ %.2f' %salario_bruto)\n",
    "print ('- IR: R$ %.2f' %ir)\n",
    "print ('- INSS: R$ %.2f' %inss)\n",
    "print ('- Sindicato: R$ %.2f' %sindicato)\n",
    "print ('= Salario Liquido: R$ %.2f' %(salario_bruto - ir - inss - sindicato))"
   ]
  },
  {
   "cell_type": "markdown",
   "metadata": {},
   "source": [
    "9 Faça um programa que leia 2 strings e informe o conteúdo delas seguido do seu comprimento. Informe também se as duas\n",
    "strings possuem o mesmo comprimento e são iguais ou diferentes no conteúdo.\n",
    "Exemplo:\n",
    "String 1: Brasil Hexa 2018\n",
    "String 2: Brasil! Hexa 2018!\n",
    "Tamanho de \"Brasil Hexa 2018\": 16 caracteres\n",
    "Tamanho de \"Brasil! Hexa 2018!\": 18 caracteres\n",
    "As duas strings são de tamanhos diferentes.\n",
    "As duas strings possuem conteúdo diferente."
   ]
  },
  {
   "cell_type": "code",
   "execution_count": null,
   "metadata": {},
   "outputs": [],
   "source": [
    "s1 = input(\"String 1: \")\n",
    "s2 = input(\"String 2: \")\n",
    "\n",
    "print(\"Tamanho de s1: %d\" %len(s1))\n",
    "print(\"Tamanho de s2: %d\" %len(s2))\n",
    "\n",
    "if len(s1) == len(s2):\n",
    "    print(\"Tamanhos iguais\")\n",
    "else\n",
    "    print(\"Possuem tamanhos diferentes\")\n",
    "    \n",
    "if s1.lower() == s2.lower():\n",
    "    print(\"São iguais\")\n",
    "else:\n",
    "    print(\"Mas diferentes\")"
   ]
  },
  {
   "cell_type": "markdown",
   "metadata": {},
   "source": [
    "10 Faça um programa que permita ao usuário digitar o seu nome e em seguida mostre o nome do usuário de trás para frente\n",
    "utilizando somente letras maiúsculas.\n",
    "Dica: lembre−se que ao informar o nome o usuário pode digitar letras maiúsculas ou minúsculas. Observação: não use\n",
    "loops."
   ]
  },
  {
   "cell_type": "code",
   "execution_count": null,
   "metadata": {},
   "outputs": [],
   "source": [
    "nome = input(\"Escreva seu nome: \")\n",
    "\n",
    "nome = nome.upper()\n",
    "resultado = ''\n",
    "\n",
    "print(nome[::-1])"
   ]
  },
  {
   "cell_type": "markdown",
   "metadata": {},
   "source": [
    "11 Faça um programa que solicite a data de nascimento (dd/mm/aaaa) do usuário e imprima a data com o nome do mês por\n",
    "extenso.\n",
    "Data de Nascimento: 29/10/1973\n",
    "Você nasceu em 29 de Outubro de 1973.\n",
    "Obs.: Não use desvio condicional nem loops."
   ]
  },
  {
   "cell_type": "code",
   "execution_count": null,
   "metadata": {},
   "outputs": [],
   "source": [
    "dia, mes, ano = input('Data (dd/mm/aaaa): ').split('/')\n",
    "meses = ['janeiro','favereiro','março','abril',\n",
    "         'maio','junho','julho','agosto','setembro',\n",
    "         'outubro','novembro','dezembro']\n",
    "\n",
    "print ('Voce nasce em:')\n",
    "print ('%s de %s de %s' %(dia, meses[int(mes) - 1], ano))"
   ]
  },
  {
   "cell_type": "raw",
   "metadata": {},
   "source": [
    "12 Leet é uma forma de se escrever o alfabeto latino usando outros símbolos em lugar das letras, como números por \n",
    "exemplo. A própria palavra leet admite muitas variações, como l33t ou 1337. O uso do leet reflete uma subcultura\n",
    "relacionada ao mundo dos jogos de computador e internet, sendo muito usada para confundir os iniciantes e afirmar-se\n",
    "como parte de um grupo. Pesquise sobre as principais formas de traduzir as letras. Depois, faça um programa que peça\n",
    "uma texto e transforme-o para a grafia leet speak.\n",
    "Desafio: não use loops nem desvios condicionais."
   ]
  }
 ],
 "metadata": {
  "kernelspec": {
   "display_name": "Python 3",
   "language": "python",
   "name": "python3"
  },
  "language_info": {
   "codemirror_mode": {
    "name": "ipython",
    "version": 3
   },
   "file_extension": ".py",
   "mimetype": "text/x-python",
   "name": "python",
   "nbconvert_exporter": "python",
   "pygments_lexer": "ipython3",
   "version": "3.7.1"
  }
 },
 "nbformat": 4,
 "nbformat_minor": 2
}
