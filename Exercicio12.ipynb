{
 "cells": [
  {
   "cell_type": "markdown",
   "metadata": {},
   "source": [
    "Reescreva o algoritmo KNN. Sua versão deverá devolver uma lista de probabilidades de voto. Por exemplo, se entre os K vizinhos mais próximos existirem 3 que votam em Bolsonaro e 2 que votam em Haddad, seu algoritmo deverá devolver a lista: [ (Bolsonaro, 0.6), ( Haddad, 0.4)]. Esse resultado é uma lista de tuplas em que cada tupla tem o rótulo de interesse no primeiro elemento e a probabilidade de voto nele na segunda. Essa é uma implementaçã probabilística do KNN."
   ]
  },
  {
   "cell_type": "code",
   "execution_count": null,
   "metadata": {},
   "outputs": [],
   "source": [
    "class Pessoa:\n",
    " def __init__ (self, idade, sexo, salario, intencao_de_voto):\n",
    " self.idade = idade\n",
    " self.sexo = sexo\n",
    " self.salario = salario\n",
    " self.intencao_de_voto = intencao_de_voto\n",
    " def __str__ (self):\n",
    " return f'idade: {self.idade}, sexo: {self.sexo}, salario: {self.salario},\n",
    "intencao_de_voto: {self.intencao_de_voto}'\n",
    "def gera_base (n):\n",
    " l = []\n",
    " for i in range (n):\n",
    "     idade = random.randint(18, 35)\n",
    "     sexo = random.choice(['M', 'F'])\n",
    "     salario = 1200 + random.random() * 1300\n",
    "     intencao_de_voto = random.choice(['Haddad', \"Bolsonaro\"])\n",
    "     p = Pessoa (idade, sexo, salario, intencao_de_voto);\n",
    "     l.append(p)\n",
    " return l\n",
    "def rotulo_de_maior_frequencia (pessoas):\n",
    "    frequencias = Counter ([pessoas])\n",
    "    mais_frequentes = frequencias.most_common(1)\n",
    "    return mais_frequentes[0][0]\n",
    "def __eq__ (self, other):\n",
    " return self.intencao_de_voto == other.intencao_de_voto\n",
    "def __hash__(self):\n",
    " return 1\n",
    "def rotulo_de_maior_frequencia_sem_empate (pessoas):\n",
    "    frequencias = Counter (pessoas)\n",
    "    rotulo, frequencia = frequencias.most_common(1)[0]\n",
    "    qtde_de_mais_frequentes = len([count for count in frequencias.values() if count ==\n",
    "frequencia])\n",
    "    if qtde_de_mais_frequentes == 1:\n",
    "    return rotulo\n",
    "    return rotulo_de_maior_frequencia_sem_empate(pessoa[:-1])\n",
    "def main ():\n",
    "    base = gera_base(10)\n",
    "    print (rotulo_de_maior_frequencia_sem_empate(base))\n",
    "main ()\n",
    "def distance (p1, p2):\n",
    "    i = math.pow((p1.idade - p2.idade), 2)\n",
    "    s = math.pow((1 if p1.sexo == 'M' else 0) - (1 if p2.sexo == 'M' else 0), 2)\n",
    "    sal = math.pow((p1.salario - p2.salario), 2)\n",
    "    return math.sqrt(i + s + sal)\n",
    "def knn (k, observacoes_rotuladas, nova_observacao):\n",
    "    ordenados_por_distancia = sorted (observacoes_rotuladas, key= lambda obs: distance (obs, nova_observacao))\n",
    "    k_mais_proximos = ordenados_por_distancia[:k]\n",
    "    resultado = rotulo_de_maior_frequencia_sem_empate(k_mais_proximos)\n",
    "    return resultado.intencao_de_voto\n",
    "def main ():\n",
    "    base = gera_base(10)\n",
    "    for p in base:\n",
    "        print (p)\n",
    "    print(knn(3, base, Pessoa (19, 'M', 1700, None)))\n",
    "main ()"
   ]
  }
 ],
 "metadata": {
  "kernelspec": {
   "display_name": "Python 3",
   "language": "python",
   "name": "python3"
  },
  "language_info": {
   "codemirror_mode": {
    "name": "ipython",
    "version": 3
   },
   "file_extension": ".py",
   "mimetype": "text/x-python",
   "name": "python",
   "nbconvert_exporter": "python",
   "pygments_lexer": "ipython3",
   "version": "3.7.1"
  }
 },
 "nbformat": 4,
 "nbformat_minor": 2
}
