{
 "cells": [
  {
   "cell_type": "markdown",
   "metadata": {},
   "source": [
    "1 A seguinte função calcula o valor de uma equação do segundo grau no ponto x,\n",
    "dados os coeficientes a, b e c.\n",
    "\n",
    "        def equacao_segundo_grau (x, a, b, c):\n",
    "            return a * x * x + b * x + c\n",
    "\n",
    "1.1 Reescreva-a usando de modo que os valores a, b e c fiquem fixos e ela seja\n",
    "chamada passando somente o valor x, como ocorre na Listagem 1.1.1."
   ]
  },
  {
   "cell_type": "code",
   "execution_count": 1,
   "metadata": {},
   "outputs": [
    {
     "name": "stdout",
     "output_type": "stream",
     "text": [
      "12\n"
     ]
    }
   ],
   "source": [
    "def equacao_segundo_grau (x, a, b, c):\n",
    "    return a * x * x + b * x + c\n",
    "\n",
    "def equacao_segund_grau3(x,b,c):\n",
    "    return 3 * x * x + b * x + c\n",
    "\n",
    "def equacao_segund_grau34(x,c):\n",
    "    return 3 * x * x + 4 * x + c\n",
    "\n",
    "def equacao_segund_grau345(x):\n",
    "    return 3 * x * x + 4 * x + 5\n",
    "\n",
    "print(equacao_segund_grau345(1))"
   ]
  },
  {
   "cell_type": "markdown",
   "metadata": {},
   "source": [
    "1.2 Refaça o Exercício 1.1 usando o operador partial.\n"
   ]
  },
  {
   "cell_type": "code",
   "execution_count": 2,
   "metadata": {},
   "outputs": [
    {
     "name": "stdout",
     "output_type": "stream",
     "text": [
      "38\n"
     ]
    }
   ],
   "source": [
    "from functools import partial\n",
    "\n",
    "\n",
    "def equacao_segundo_grau_partial(a, b, c, x):\n",
    "    return a * x * x + b * x + c\n",
    "\n",
    "\n",
    "equacao_segundo_grau_partial_5 = partial(equacao_segundo_grau_partial, 5)\n",
    "\n",
    "equacao_segundo_grau_partial_5_7 = partial(equacao_segundo_grau_partial_5, 7)\n",
    "\n",
    "equacao_segundo_grau_partial_5_7_4 = partial(equacao_segundo_grau_partial_5_7, 4)\n",
    "\n",
    "print(equacao_segundo_grau_partial_5_7_4(2))"
   ]
  },
  {
   "cell_type": "markdown",
   "metadata": {},
   "source": [
    "1.3 Escreva uma função recursiva para calcular a seguinte relação de recorrência:\n",
    "f(n) =\n",
    "        1 se n >= 1 e n <= 5\n",
    "        2 * (n – 1) + 3 caso contrário"
   ]
  },
  {
   "cell_type": "code",
   "execution_count": 3,
   "metadata": {},
   "outputs": [
    {
     "name": "stdout",
     "output_type": "stream",
     "text": [
      "13\n"
     ]
    }
   ],
   "source": [
    "def funcao_recursiva(n):\n",
    "    if n >= 1 and n <= 5:\n",
    "        return 1\n",
    "    return funcao_recursiva(n - 1)*2+3\n",
    "\n",
    "print (funcao_recursiva(7))"
   ]
  },
  {
   "cell_type": "markdown",
   "metadata": {},
   "source": [
    "1.4 Refaça o Exercício 1.3 usando Memoization.\n"
   ]
  },
  {
   "cell_type": "code",
   "execution_count": 4,
   "metadata": {},
   "outputs": [
    {
     "name": "stdout",
     "output_type": "stream",
     "text": [
      "13\n"
     ]
    }
   ],
   "source": [
    "cache = {}\n",
    "cache[1] = 1\n",
    "cache[2] = 1\n",
    "cache[3] = 1\n",
    "cache[4] = 1\n",
    "cache[5] = 1\n",
    "\n",
    "def memoized_funcao_recursiva(n):\n",
    "    if n in cache:\n",
    "        return cache[n]\n",
    "    cache[n] = memoized_funcao_recursiva(n - 1)*2+3\n",
    "    return cache[n]\n",
    "\n",
    "print (memoized_funcao_recursiva(7))"
   ]
  },
  {
   "cell_type": "markdown",
   "metadata": {},
   "source": [
    "1.5 Refaça o Exercício 1.4 usando a técnica de Memoization implementada com um\n",
    "Decorator."
   ]
  },
  {
   "cell_type": "code",
   "execution_count": 5,
   "metadata": {},
   "outputs": [
    {
     "name": "stdout",
     "output_type": "stream",
     "text": [
      "Antes de executar\n",
      "1\n",
      "Depois de executar\n"
     ]
    }
   ],
   "source": [
    "cache = {}\n",
    "cache[1] = 1\n",
    "cache[2] = 1\n",
    "cache[3] = 1\n",
    "cache[4] = 1\n",
    "cache[5] = 1\n",
    "\n",
    "def meu_decorator(func,n):\n",
    "    def decorator():\n",
    "        print(\"Antes de executar\")\n",
    "        func(n)\n",
    "        print(\"Depois de executar\")\n",
    "    return decorator\n",
    "\n",
    "def memoized_funcao_recursiva_decorator(n):\n",
    "    if n in cache:\n",
    "        print (cache[n])\n",
    "        return cache[n]\n",
    "    cache[n] = memoized_funcao_recursiva_decorator(n - 1)*2+3\n",
    "    print (cache[n])\n",
    "    return cache[n]\n",
    "\n",
    "memoized_funcao_recursiva_decorator = meu_decorator(memoized_funcao_recursiva_decorator,5)\n",
    "memoized_funcao_recursiva_decorator()"
   ]
  },
  {
   "cell_type": "code",
   "execution_count": null,
   "metadata": {},
   "outputs": [],
   "source": []
  }
 ],
 "metadata": {
  "kernelspec": {
   "display_name": "Python 3",
   "language": "python",
   "name": "python3"
  },
  "language_info": {
   "codemirror_mode": {
    "name": "ipython",
    "version": 3
   },
   "file_extension": ".py",
   "mimetype": "text/x-python",
   "name": "python",
   "nbconvert_exporter": "python",
   "pygments_lexer": "ipython3",
   "version": "3.7.1"
  }
 },
 "nbformat": 4,
 "nbformat_minor": 2
}
